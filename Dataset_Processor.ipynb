{
 "cells": [
  {
   "cell_type": "code",
   "execution_count": 1,
   "id": "290119b2-09ce-40e9-ae4c-e6f8d6feaeed",
   "metadata": {},
   "outputs": [],
   "source": [
    "import os\n",
    "import cv2\n",
    "import numpy as np\n",
    "from tqdm import tqdm "
   ]
  },
  {
   "cell_type": "code",
   "execution_count": 2,
   "id": "91fe3306-44d2-4fb5-938c-e2e59e69407b",
   "metadata": {},
   "outputs": [],
   "source": [
    "# Define paths\n",
    "input_folder = \"Research Dataset\"\n",
    "output_folder = \"Research Dataset/modded\""
   ]
  },
  {
   "cell_type": "code",
   "execution_count": 3,
   "id": "ce8cb8b3-3f14-4c36-bbe2-5546fc546036",
   "metadata": {},
   "outputs": [
    {
     "name": "stderr",
     "output_type": "stream",
     "text": [
      "100%|██████████| 5/5 [03:00<00:00, 36.19s/it]\n"
     ]
    }
   ],
   "source": [
    "# Ensure output folder exists\n",
    "os.makedirs(output_folder, exist_ok=True)\n",
    "\n",
    "# Convert PNG to JPG, resize to 224x224, and mirror horizontally\n",
    "def augment_and_save(input_path, output_path):\n",
    "    img = cv2.imread(input_path)\n",
    "\n",
    "    if img is None:\n",
    "        return\n",
    "\n",
    "    # Convert PNG to JPG\n",
    "    if input_path.lower().endswith(\".png\"):\n",
    "        output_path = os.path.splitext(output_path)[0] + \".jpg\"\n",
    "        cv2.imwrite(output_path, img)\n",
    "\n",
    "    # Resize to 224x224\n",
    "    img_resized = cv2.resize(img, (224, 224))\n",
    "    \n",
    "    # Save resized image\n",
    "    cv2.imwrite(output_path, img_resized)\n",
    "\n",
    "    # Mirror horizontally\n",
    "    img_mirror = cv2.flip(img_resized, 1)\n",
    "    mirrored_output_path = os.path.splitext(output_path)[0] + \"_mirror.jpg\"\n",
    "    cv2.imwrite(mirrored_output_path, img_mirror)\n",
    "\n",
    "# Iterate through classes and images\n",
    "for class_folder in tqdm(os.listdir(input_folder)):\n",
    "    class_path = os.path.join(input_folder, class_folder)\n",
    "    output_class_path = os.path.join(output_folder, class_folder)\n",
    "    os.makedirs(output_class_path, exist_ok=True)\n",
    "\n",
    "    for filename in os.listdir(class_path):\n",
    "        input_image_path = os.path.join(class_path, filename)\n",
    "        output_image_path = os.path.join(output_class_path, filename)\n",
    "        augment_and_save(input_image_path, output_image_path)"
   ]
  },
  {
   "cell_type": "code",
   "execution_count": null,
   "id": "e2c8b1e8-2188-4673-b9a3-3825a6626a31",
   "metadata": {},
   "outputs": [],
   "source": []
  },
  {
   "cell_type": "code",
   "execution_count": null,
   "id": "2217411b-1c09-451a-afae-b45ec8808b6e",
   "metadata": {},
   "outputs": [],
   "source": []
  },
  {
   "cell_type": "code",
   "execution_count": null,
   "id": "d5c044c0-1fca-4aea-85e5-c424ea073a9c",
   "metadata": {},
   "outputs": [],
   "source": []
  },
  {
   "cell_type": "code",
   "execution_count": null,
   "id": "3008467c-f08c-4616-9d41-008633371fa0",
   "metadata": {},
   "outputs": [],
   "source": []
  },
  {
   "cell_type": "code",
   "execution_count": null,
   "id": "8f24e628-d8fd-400d-9b1d-8d0b46f6869f",
   "metadata": {},
   "outputs": [],
   "source": []
  },
  {
   "cell_type": "code",
   "execution_count": null,
   "id": "2c08c66d-2d71-4e31-951f-49e2eccaafa3",
   "metadata": {},
   "outputs": [],
   "source": []
  },
  {
   "cell_type": "code",
   "execution_count": null,
   "id": "ed7c7525-3ab2-4485-bfdd-ae43b02bc166",
   "metadata": {},
   "outputs": [],
   "source": []
  }
 ],
 "metadata": {
  "kernelspec": {
   "display_name": "Tensorflow",
   "language": "python",
   "name": "tf_research"
  },
  "language_info": {
   "codemirror_mode": {
    "name": "ipython",
    "version": 3
   },
   "file_extension": ".py",
   "mimetype": "text/x-python",
   "name": "python",
   "nbconvert_exporter": "python",
   "pygments_lexer": "ipython3",
   "version": "3.8.17"
  }
 },
 "nbformat": 4,
 "nbformat_minor": 5
}
